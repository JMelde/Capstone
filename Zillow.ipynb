{
 "metadata": {
  "name": "",
  "signature": "sha256:3dfa7fc0e30ea8b2301f6e6c42bf8344a6fa0480b6c28b07d6278153c27e3bd3"
 },
 "nbformat": 3,
 "nbformat_minor": 0,
 "worksheets": [
  {
   "cells": [
    {
     "cell_type": "code",
     "collapsed": false,
     "input": [
      "import pandas as pd\n",
      "import numpy as np"
     ],
     "language": "python",
     "metadata": {},
     "outputs": [],
     "prompt_number": 1
    },
    {
     "cell_type": "code",
     "collapsed": false,
     "input": [
      "%matplotlib inline\n",
      "from matplotlib import pyplot as plt\n",
      "from matplotlib import rcParams\n",
      "rcParams['figure.figsize'] = (9, 6)\n",
      "rcParams['font.size'] = 10"
     ],
     "language": "python",
     "metadata": {},
     "outputs": [],
     "prompt_number": 2
    },
    {
     "cell_type": "code",
     "collapsed": false,
     "input": [
      "zdata = pd.read_csv('zuid-zip-ordered.csv')\n",
      "\n",
      "zdata.columns"
     ],
     "language": "python",
     "metadata": {},
     "outputs": [
      {
       "metadata": {},
       "output_type": "pyout",
       "prompt_number": 4,
       "text": [
        "Index([u'zuid', u'zip'], dtype='object')"
       ]
      }
     ],
     "prompt_number": 4
    },
    {
     "cell_type": "code",
     "collapsed": false,
     "input": [
      "zdata.head()"
     ],
     "language": "python",
     "metadata": {},
     "outputs": [
      {
       "html": [
        "<div style=\"max-height:1000px;max-width:1500px;overflow:auto;\">\n",
        "<table border=\"1\" class=\"dataframe\">\n",
        "  <thead>\n",
        "    <tr style=\"text-align: right;\">\n",
        "      <th></th>\n",
        "      <th>zuid</th>\n",
        "      <th>zip</th>\n",
        "    </tr>\n",
        "  </thead>\n",
        "  <tbody>\n",
        "    <tr>\n",
        "      <th>0</th>\n",
        "      <td> 000007ce7644b481833063ef69ae47c5</td>\n",
        "      <td> 98036</td>\n",
        "    </tr>\n",
        "    <tr>\n",
        "      <th>1</th>\n",
        "      <td> 000007ce7644b481833063ef69ae47c5</td>\n",
        "      <td> 98204</td>\n",
        "    </tr>\n",
        "    <tr>\n",
        "      <th>2</th>\n",
        "      <td> 000007ce7644b481833063ef69ae47c5</td>\n",
        "      <td> 98208</td>\n",
        "    </tr>\n",
        "    <tr>\n",
        "      <th>3</th>\n",
        "      <td> 0001fad7634dace7d9051754b28c2911</td>\n",
        "      <td> 98166</td>\n",
        "    </tr>\n",
        "    <tr>\n",
        "      <th>4</th>\n",
        "      <td> 00048a7f9eb74532102c75e8e75fb3c6</td>\n",
        "      <td> 98201</td>\n",
        "    </tr>\n",
        "  </tbody>\n",
        "</table>\n",
        "</div>"
       ],
       "metadata": {},
       "output_type": "pyout",
       "prompt_number": 12,
       "text": [
        "                               zuid    zip\n",
        "0  000007ce7644b481833063ef69ae47c5  98036\n",
        "1  000007ce7644b481833063ef69ae47c5  98204\n",
        "2  000007ce7644b481833063ef69ae47c5  98208\n",
        "3  0001fad7634dace7d9051754b28c2911  98166\n",
        "4  00048a7f9eb74532102c75e8e75fb3c6  98201"
       ]
      }
     ],
     "prompt_number": 12
    },
    {
     "cell_type": "code",
     "collapsed": false,
     "input": [
      "from collections import Counter"
     ],
     "language": "python",
     "metadata": {},
     "outputs": [],
     "prompt_number": 38
    },
    {
     "cell_type": "code",
     "collapsed": false,
     "input": [
      "count_data = Counter(zdata.zip).most_common()"
     ],
     "language": "python",
     "metadata": {},
     "outputs": [],
     "prompt_number": 55
    },
    {
     "cell_type": "code",
     "collapsed": false,
     "input": [
      "count_data = pd.DataFrame(count_data)\n",
      "\n",
      "count_data.columns = [['Zip', 'Count']]"
     ],
     "language": "python",
     "metadata": {},
     "outputs": [],
     "prompt_number": 62
    },
    {
     "cell_type": "code",
     "collapsed": false,
     "input": [
      "count_data.head()"
     ],
     "language": "python",
     "metadata": {},
     "outputs": [
      {
       "html": [
        "<div style=\"max-height:1000px;max-width:1500px;overflow:auto;\">\n",
        "<table border=\"1\" class=\"dataframe\">\n",
        "  <thead>\n",
        "    <tr style=\"text-align: right;\">\n",
        "      <th></th>\n",
        "      <th>Zip</th>\n",
        "      <th>Count</th>\n",
        "    </tr>\n",
        "  </thead>\n",
        "  <tbody>\n",
        "    <tr>\n",
        "      <th>0</th>\n",
        "      <td> 98103</td>\n",
        "      <td> 914</td>\n",
        "    </tr>\n",
        "    <tr>\n",
        "      <th>1</th>\n",
        "      <td> 97219</td>\n",
        "      <td> 901</td>\n",
        "    </tr>\n",
        "    <tr>\n",
        "      <th>2</th>\n",
        "      <td> 98115</td>\n",
        "      <td> 891</td>\n",
        "    </tr>\n",
        "    <tr>\n",
        "      <th>3</th>\n",
        "      <td> 98052</td>\n",
        "      <td> 887</td>\n",
        "    </tr>\n",
        "    <tr>\n",
        "      <th>4</th>\n",
        "      <td> 97229</td>\n",
        "      <td> 878</td>\n",
        "    </tr>\n",
        "  </tbody>\n",
        "</table>\n",
        "</div>"
       ],
       "metadata": {},
       "output_type": "pyout",
       "prompt_number": 95,
       "text": [
        "     Zip  Count\n",
        "0  98103    914\n",
        "1  97219    901\n",
        "2  98115    891\n",
        "3  98052    887\n",
        "4  97229    878"
       ]
      }
     ],
     "prompt_number": 95
    },
    {
     "cell_type": "code",
     "collapsed": false,
     "input": [
      "# Plotting the distribution of searches per Zip Code\n",
      "\n",
      "count_data.Count.hist(log = True, edgecolor = 'white')\n",
      "plt.xlabel(\"Number of searches per zip code\")\n",
      "plt.ylabel(\"N\")\n",
      "plt.title(\"Density of number of searches per zip\")"
     ],
     "language": "python",
     "metadata": {},
     "outputs": [
      {
       "metadata": {},
       "output_type": "pyout",
       "prompt_number": 94,
       "text": [
        "<matplotlib.text.Text at 0x3da130f0>"
       ]
      },
      {
       "metadata": {},
       "output_type": "display_data",
       "png": "[encoded data removed]",
       "text": [
        "<matplotlib.figure.Figure at 0x31645470>"
       ]
      }
     ],
     "prompt_number": 94
    },
    {
     "cell_type": "markdown",
     "metadata": {},
     "source": [
      "There are 37,559 unique Zillow User Ids in this dataset.\n",
      "\n",
      "There are 1,153 unique Zip Codes in this dataset"
     ]
    }
   ],
   "metadata": {}
  }
 ]
}